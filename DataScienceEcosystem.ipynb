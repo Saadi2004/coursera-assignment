{
  "metadata": {
    "kernelspec": {
      "name": "python",
      "display_name": "Python (Pyodide)",
      "language": "python"
    },
    "language_info": {
      "codemirror_mode": {
        "name": "python",
        "version": 3
      },
      "file_extension": ".py",
      "mimetype": "text/x-python",
      "name": "python",
      "nbconvert_exporter": "python",
      "pygments_lexer": "ipython3",
      "version": "3.8"
    }
  },
  "nbformat_minor": 5,
  "nbformat": 4,
  "cells": [
    {
      "id": "a76a3d44-ef68-4a4a-970a-743c1a29f862",
      "cell_type": "markdown",
      "source": "# Data Science Tools And Ecosystem",
      "metadata": {}
    },
    {
      "id": "89d92112-0762-4a8f-8eda-a262629de614",
      "cell_type": "markdown",
      "source": "In this notebook, Data Science Tools and Ecosystem are summarized.",
      "metadata": {}
    },
    {
      "id": "4be50590-de40-40ee-b8c8-4e59561e0bdc",
      "cell_type": "markdown",
      "source": "# Objectives:\n- List popular languages for Data Science\n- Some of the commonly used libraries used by Data Scientists\n- Data Science Tools\n- evaluating arithmetic expressions in Python\n- 200 minutes to hours by diving by 60",
      "metadata": {}
    },
    {
      "id": "e96d7f38-1710-49b7-b38d-1c0e7a7e660e",
      "cell_type": "code",
      "source": "Some of the popular languages that Data Scientists use are:\nPython\nR language\nSQL\nScala",
      "metadata": {
        "trusted": true
      },
      "outputs": [],
      "execution_count": null
    },
    {
      "id": "8c5393eb-43c1-4360-8f1f-f28128b55743",
      "cell_type": "markdown",
      "source": "Some of the commonly used libraries used by Data Scientists include:\nPandas\nnumpy\nScikit-learn\nPytorch\nMatplotlib",
      "metadata": {}
    },
    {
      "id": "50bd8068-35bd-4ee5-90a4-2129cec31720",
      "cell_type": "markdown",
      "source": "Data Science Tools\nJupyter Notebook\nRstudio\nApache Zeppelin\n",
      "metadata": {}
    },
    {
      "id": "93955b40-e34c-4cc5-b126-ac512c0bba18",
      "cell_type": "markdown",
      "source": "# Below are a few examples of evaluating arithmetic expressions in Python\n2+3\n6*5\n3/5\n5-1",
      "metadata": {}
    },
    {
      "id": "1d16ca26-fc12-42b2-981c-e2dd931e12cb",
      "cell_type": "code",
      "source": "# This a simple arithmetic expression to mutiply then add integers\n(3*4)+5",
      "metadata": {
        "trusted": true
      },
      "outputs": [
        {
          "execution_count": 2,
          "output_type": "execute_result",
          "data": {
            "text/plain": "17"
          },
          "metadata": {}
        }
      ],
      "execution_count": 2
    },
    {
      "id": "f9272dba-5cf7-4756-b1ac-ce1de8c68252",
      "cell_type": "code",
      "source": "# This will convert 200 minutes to hours by diving by 60.\n200 / 60",
      "metadata": {
        "trusted": true
      },
      "outputs": [
        {
          "execution_count": 3,
          "output_type": "execute_result",
          "data": {
            "text/plain": "3.3333333333333335"
          },
          "metadata": {}
        }
      ],
      "execution_count": 3
    },
    {
      "id": "787a2e19-9817-450f-a97e-0231ccc2812f",
      "cell_type": "markdown",
      "source": "# Author\nMuhammad Saad",
      "metadata": {}
    },
    {
      "id": "4718c34e-eddc-41ea-9352-2cd8805b5cc9",
      "cell_type": "code",
      "source": "",
      "metadata": {
        "trusted": true
      },
      "outputs": [],
      "execution_count": null
    }
  ]
}